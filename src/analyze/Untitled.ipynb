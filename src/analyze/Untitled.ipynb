{
 "cells": [
  {
   "cell_type": "code",
   "execution_count": null,
   "id": "attractive-river",
   "metadata": {},
   "outputs": [],
   "source": [
    "import re\n",
    "\n",
    "from matplotlib import pyplot\n",
    "\n",
    "date_time_list = []\n",
    "pool_size_list = []\n",
    "queue_size_list = []\n",
    "wait_ms_list = []\n",
    "\n",
    "with open(file='threads.log', mode='r') as f:\n",
    "    for (index, line) in enumerate(f):\n",
    "        if index < 1000000:\n",
    "            date_time_text = line[:23]  # 2021-02-09 05:03:06\n",
    "            # date_time = datetime.strptime(date_time_text, \"%Y-%m-%d %H:%M:%S.%f\")\n",
    "            date_time = date_time_text\n",
    "            statistics_text = line[-27:]  # {poolSize: 0, queueSize: 0}\n",
    "            wait_ms = re.findall(f\"(\\d+)(ms)\", line)[0][0]\n",
    "            pool_size_text, queue_size_text = re.findall(r\"\\d+\", line[-27:])\n",
    "\n",
    "            if int(queue_size_text) == 0:\n",
    "                continue\n",
    "\n",
    "            date_time_list.append(date_time)\n",
    "            pool_size_list.append(int(pool_size_text))\n",
    "            queue_size_list.append(int(queue_size_text))\n",
    "            wait_ms_list.append(wait_ms)\n",
    "\n",
    "pyplot.plot(date_time_list, wait_ms_list)\n",
    "pyplot.rcParams[\"figure.figsize\"] = (20, 8)\n",
    "pyplot.show()\n"
   ]
  },
  {
   "cell_type": "code",
   "execution_count": null,
   "id": "unique-ideal",
   "metadata": {},
   "outputs": [],
   "source": []
  },
  {
   "cell_type": "code",
   "execution_count": null,
   "id": "figured-chile",
   "metadata": {},
   "outputs": [],
   "source": []
  },
  {
   "cell_type": "code",
   "execution_count": null,
   "id": "every-consequence",
   "metadata": {},
   "outputs": [],
   "source": []
  }
 ],
 "metadata": {
  "kernelspec": {
   "display_name": "Python 3",
   "language": "python",
   "name": "python3"
  },
  "language_info": {
   "codemirror_mode": {
    "name": "ipython",
    "version": 3
   },
   "file_extension": ".py",
   "mimetype": "text/x-python",
   "name": "python",
   "nbconvert_exporter": "python",
   "pygments_lexer": "ipython3",
   "version": "3.8.5"
  }
 },
 "nbformat": 4,
 "nbformat_minor": 5
}
